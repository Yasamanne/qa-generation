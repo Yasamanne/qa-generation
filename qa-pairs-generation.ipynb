{
 "cells": [
  {
   "cell_type": "code",
   "execution_count": 10,
   "metadata": {},
   "outputs": [
    {
     "name": "stdout",
     "output_type": "stream",
     "text": [
      "Generated question-answer pairs and saved to question_answer_pairs_from_CFR-2024-title8-vol1_gpt-p740-790.txt\n"
     ]
    }
   ],
   "source": [
    "import PyPDF2\n",
    "import openai\n",
    "import time\n",
    "\n",
    "\n",
    "def extract_text_from_pdf(pdf_path, start_page, end_page):\n",
    "    with open(pdf_path, 'rb') as file:\n",
    "        reader = PyPDF2.PdfReader(file)\n",
    "        text = \"\"\n",
    "        # Ensure the page numbers are within the valid range\n",
    "        num_pages = len(reader.pages)\n",
    "        start_page = max(0, start_page - 1)  # Pages are zero-indexed\n",
    "        end_page = min(end_page, num_pages)\n",
    "        \n",
    "        for i in range(start_page, end_page):\n",
    "            text += reader.pages[i].extract_text()\n",
    "    return text\n",
    "\n",
    "\n",
    "# Function to generate question-answer pairs using GPT\n",
    "def generate_question_answer_pairs_gpt(text, api_key):\n",
    "    openai.api_key = api_key\n",
    "    pairs = []\n",
    "    sentences = text.split('. ')\n",
    "    chunks = ['. '.join(sentences[i:i + 10]) for i in range(0, len(sentences), 10)]\n",
    "    \n",
    "    for chunk in chunks:\n",
    "        try:\n",
    "            response = openai.ChatCompletion.create(\n",
    "                model=\"gpt-4o-mini\",\n",
    "                messages=[\n",
    "                    {\"role\": \"system\", \"content\": \"Generate question-answer pairs from the following text.\"},\n",
    "                    {\"role\": \"user\", \"content\": chunk}\n",
    "                ]\n",
    "            )\n",
    "            pair_content = response['choices'][0]['message']['content'].strip()\n",
    "            pairs.append(pair_content)\n",
    "            time.sleep(1)  # Wait for 1 second before sending the next request\n",
    "        except openai.error.RateLimitError:\n",
    "            print(\"Rate limit exceeded. Waiting before retrying...\")\n",
    "            time.sleep(30)  # Wait for 30 seconds before retrying\n",
    "            continue  # Retry the same chunk\n",
    "    \n",
    "    return pairs\n",
    "\n",
    "# Function to save question-answer pairs to a file\n",
    "def save_to_file(pairs, output_path):\n",
    "    with open(output_path, 'w') as file:\n",
    "        for pair in pairs:\n",
    "            file.write(pair + \"\\n\\n\")\n",
    "\n",
    "# Main process\n",
    "pdf_path = 'Immigration law resources/CFR-2024-title8-vol1.pdf'  # Path to the PDF file\n",
    "output_path = 'question_answer_pairs_from_CFR-2024-title8-vol1_gpt-p740-790.txt'  # Output file for the Q&A pairs\n",
    "api_key = 'YOUR_API_KEY_HERE'  # Replace with your OpenAI API key\n",
    "\n",
    "# Extract text from the PDF\n",
    "text = extract_text_from_pdf(pdf_path, start_page=740, end_page=790)\n",
    "\n",
    "# Generate question-answer pairs using GPT-4\n",
    "question_answer_pairs = generate_question_answer_pairs_gpt(text, api_key)\n",
    "\n",
    "# Save the pairs to a file\n",
    "save_to_file(question_answer_pairs, output_path)\n",
    "\n",
    "print(f\"Generated question-answer pairs and saved to {output_path}\")\n"
   ]
  },
  {
   "cell_type": "code",
   "execution_count": null,
   "metadata": {},
   "outputs": [],
   "source": []
  }
 ],
 "metadata": {
  "kernelspec": {
   "display_name": "Python (finetune)",
   "language": "python",
   "name": "finetune"
  },
  "language_info": {
   "codemirror_mode": {
    "name": "ipython",
    "version": 3
   },
   "file_extension": ".py",
   "mimetype": "text/x-python",
   "name": "python",
   "nbconvert_exporter": "python",
   "pygments_lexer": "ipython3",
   "version": "3.12.2"
  }
 },
 "nbformat": 4,
 "nbformat_minor": 2
}
